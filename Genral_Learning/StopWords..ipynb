{
 "cells": [
  {
   "cell_type": "code",
   "execution_count": 2,
   "metadata": {},
   "outputs": [],
   "source": [
    "import spacy"
   ]
  },
  {
   "cell_type": "code",
   "execution_count": 3,
   "metadata": {},
   "outputs": [],
   "source": [
    "nlp= spacy.load('en_core_web_sm')"
   ]
  },
  {
   "cell_type": "code",
   "execution_count": 5,
   "metadata": {},
   "outputs": [
    {
     "name": "stdout",
     "output_type": "stream",
     "text": [
      "{'until', 'had', 'which', 'his', 'already', 'much', 'almost', 'might', 'together', 'without', '’d', 'among', 'done', 'of', 'ever', 'go', 'hereby', 'put', 'by', 'before', 'always', 'itself', 'upon', 'whole', 'seem', 'thru', 'throughout', 'used', 'first', 'on', 'our', 'those', 'once', 'beyond', 'her', 'or', 'will', 'anyway', 'made', 'both', 'nowhere', 'can', 'all', 'less', 'though', 'someone', 'be', 'name', 'but', 'rather', 'ours', 'call', 'eight', 'latterly', '’s', 'we', 'other', 'afterwards', 'due', 'latter', 'became', 'through', 'whatever', 'a', 'why', 'into', 'now', 'whoever', 'three', 'full', 'he', 'becomes', 'thus', 'indeed', 'also', 'anything', 'cannot', 'nine', 'herein', 're', 'get', 'empty', 'thereafter', '’re', 'hereafter', 'then', 'noone', 'hence', 'around', 'what', 'here', 'such', 'one', 'regarding', 'everywhere', 'n‘t', 'make', 'whose', \"'d\", 'you', 'third', 'these', 'just', 'no', 'at', 'serious', 'been', 'was', 'nothing', 'n’t', 'have', 'did', 'with', 'than', 'anyone', 'herself', 'front', 'yours', 'via', 'further', 'whereafter', 'as', '’ve', 'show', 'per', 'nor', 'its', 'over', 'does', 'hereupon', 'were', 'thereupon', \"'ve\", 'sometime', 'hers', 'seemed', 'besides', 'your', 'whence', 'me', 'may', 'none', 'say', 'however', 'could', 'moreover', 'doing', 'ourselves', 'toward', 'amount', 'although', 'only', 'while', 'side', 'therein', 'back', 'she', 'seems', 'that', 'during', 'fifty', 'really', '‘d', 'bottom', 'am', 'wherever', 'towards', 'else', 'out', 'quite', 'are', 'wherein', 'within', 'two', 'most', 'five', 'would', 'even', 'so', 'ca', 'thence', 'except', \"'s\", 'do', 'nevertheless', 'least', 'elsewhere', 'yet', 'being', 'seeming', 'is', 'mostly', 'many', 'myself', 'perhaps', 'beside', 'them', 'in', 'take', 'under', 'whither', 'four', 'otherwise', 'when', 'alone', 'whom', 'some', 'everything', 'their', '‘re', 'must', '’ll', 'former', 'i', 'everyone', 'after', 'has', 'us', 'above', 'about', '’m', 'eleven', 'my', '‘ve', \"'ll\", 'several', 'next', 'very', 'this', 'somewhere', 'every', 'whenever', 'ten', 'give', 'own', 'move', 'any', 'sixty', 'become', 'how', 'himself', 'below', 'whereby', 'not', 'another', 'there', 'an', 'and', 'last', 'behind', 'him', 'keep', 'nobody', 'top', 'amongst', 'where', 'the', 'same', \"'re\", \"n't\", 'somehow', 'whereas', 'each', '‘s', 'unless', 'six', 'anyhow', 'often', 'twelve', '‘ll', 'see', 'becoming', 'forty', 'hundred', 'themselves', 'to', 'too', \"'m\", 'yourselves', 'should', 'who', 'off', 'therefore', 'for', 'because', 'few', 'from', 'if', 'namely', 'neither', 'mine', 'it', 'thereby', 'various', 'across', 'formerly', 'using', 'others', 'since', 'more', 'please', 'down', 'twenty', 'between', 'yourself', 'onto', 'well', 'meanwhile', 'something', 'still', 'enough', 'along', 'part', 'they', 'whereupon', '‘m', 'whether', 'up', 'beforehand', 'either', 'again', 'fifteen', 'against', 'sometimes', 'never', 'anywhere'}\n"
     ]
    }
   ],
   "source": [
    "# Set of all the default stop words in spacy\n",
    "print(nlp.Defaults.stop_words)"
   ]
  },
  {
   "cell_type": "code",
   "execution_count": 6,
   "metadata": {},
   "outputs": [
    {
     "data": {
      "text/plain": [
       "326"
      ]
     },
     "execution_count": 6,
     "metadata": {},
     "output_type": "execute_result"
    }
   ],
   "source": [
    "# total number of stop words in spacy\n",
    "len(nlp.Defaults.stop_words)"
   ]
  },
  {
   "cell_type": "code",
   "execution_count": 8,
   "metadata": {},
   "outputs": [
    {
     "data": {
      "text/plain": [
       "True"
      ]
     },
     "execution_count": 8,
     "metadata": {},
     "output_type": "execute_result"
    }
   ],
   "source": [
    "# Check if a stop word.\n",
    "nlp.vocab['is'].is_stop"
   ]
  },
  {
   "cell_type": "code",
   "execution_count": 9,
   "metadata": {},
   "outputs": [
    {
     "data": {
      "text/plain": [
       "False"
      ]
     },
     "execution_count": 9,
     "metadata": {},
     "output_type": "execute_result"
    }
   ],
   "source": [
    "nlp.vocab['Mystery'].is_stop"
   ]
  },
  {
   "cell_type": "code",
   "execution_count": 10,
   "metadata": {},
   "outputs": [
    {
     "data": {
      "text/plain": [
       "False"
      ]
     },
     "execution_count": 10,
     "metadata": {},
     "output_type": "execute_result"
    }
   ],
   "source": [
    "nlp.vocab['btw'].is_stop"
   ]
  },
  {
   "cell_type": "code",
   "execution_count": 11,
   "metadata": {},
   "outputs": [],
   "source": [
    "# add a stopword\n",
    "nlp.Defaults.stop_words.add('btw')"
   ]
  },
  {
   "cell_type": "code",
   "execution_count": 13,
   "metadata": {},
   "outputs": [],
   "source": [
    "nlp.vocab['btw'].is_stop = True"
   ]
  },
  {
   "cell_type": "code",
   "execution_count": 14,
   "metadata": {},
   "outputs": [
    {
     "data": {
      "text/plain": [
       "327"
      ]
     },
     "execution_count": 14,
     "metadata": {},
     "output_type": "execute_result"
    }
   ],
   "source": [
    "len(nlp.Defaults.stop_words)"
   ]
  },
  {
   "cell_type": "code",
   "execution_count": 15,
   "metadata": {},
   "outputs": [
    {
     "data": {
      "text/plain": [
       "True"
      ]
     },
     "execution_count": 15,
     "metadata": {},
     "output_type": "execute_result"
    }
   ],
   "source": [
    "nlp.vocab['btw'].is_stop"
   ]
  },
  {
   "cell_type": "code",
   "execution_count": 16,
   "metadata": {},
   "outputs": [],
   "source": [
    "# Remove the stop_word\n",
    "nlp.Defaults.stop_words.remove('had')"
   ]
  },
  {
   "cell_type": "code",
   "execution_count": 17,
   "metadata": {},
   "outputs": [],
   "source": [
    "nlp.vocab['had'].is_stop = False"
   ]
  },
  {
   "cell_type": "code",
   "execution_count": 18,
   "metadata": {},
   "outputs": [
    {
     "data": {
      "text/plain": [
       "False"
      ]
     },
     "execution_count": 18,
     "metadata": {},
     "output_type": "execute_result"
    }
   ],
   "source": [
    "nlp.vocab['had'].is_stop"
   ]
  }
 ],
 "metadata": {
  "kernelspec": {
   "display_name": "Python 3",
   "language": "python",
   "name": "python3"
  },
  "language_info": {
   "codemirror_mode": {
    "name": "ipython",
    "version": 3
   },
   "file_extension": ".py",
   "mimetype": "text/x-python",
   "name": "python",
   "nbconvert_exporter": "python",
   "pygments_lexer": "ipython3",
   "version": "3.7.6"
  }
 },
 "nbformat": 4,
 "nbformat_minor": 4
}
