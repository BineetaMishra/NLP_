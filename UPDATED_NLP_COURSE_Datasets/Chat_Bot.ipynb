{
 "cells": [
  {
   "cell_type": "raw",
   "metadata": {},
   "source": [
    "x---> discrete set of inputs {x1, x2......, xn}\n",
    "q---> Query\n",
    "a---> output answer"
   ]
  },
  {
   "cell_type": "raw",
   "metadata": {},
   "source": [
    "How the QA Bot Network Works\n",
    "\n",
    "---> Input Memory Representation\n",
    "----> Output Memory Representation\n",
    "----> Generating Final Prediction\n",
    "\n",
    "Create a full model with Rnn and Multiple Layers"
   ]
  },
  {
   "cell_type": "raw",
   "metadata": {},
   "source": [
    "Single Layer\n",
    "\n",
    "Input Memory Representation\n",
    "convert to memory vectors\n",
    "use keras for embedding to convert sentences x\n",
    "two types of encoders \n",
    "1.C(i)\n",
    "2. M(i)\n",
    "\n",
    "The query q will also be embedded.\n",
    "to obtain internal state called u\n",
    "\n",
    "Input Memory Representation\n",
    "P(i) = Softmax(u, M(i))\n",
    "\n",
    "Output Memory Representation\n",
    "Each x has a corresponding output vector c\n",
    "\n",
    "o = EP(i)C(i)\n",
    "\n",
    "In the single layer case, the sum of the output vector o and the input embedding u is then passed through a final weight matrix W(of size V*d)\n",
    "and a softmax to produce the predicted label:\n",
    "\n",
    "^a= Softmax(W(o + u))"
   ]
  },
  {
   "cell_type": "code",
   "execution_count": null,
   "metadata": {},
   "outputs": [],
   "source": [
    "import pickle\n",
    "import numpy as np"
   ]
  },
  {
   "cell_type": "code",
   "execution_count": null,
   "metadata": {},
   "outputs": [],
   "source": [
    "with open('train_qa.txt', 'rb') as f:\n",
    "    train_data=pickle.load(f)"
   ]
  },
  {
   "cell_type": "code",
   "execution_count": null,
   "metadata": {},
   "outputs": [],
   "source": [
    "with open('test_qa.txt', 'rb') as f:\n",
    "    train_data=pickle.load(f)"
   ]
  }
 ],
 "metadata": {
  "kernelspec": {
   "display_name": "Python 3",
   "language": "python",
   "name": "python3"
  },
  "language_info": {
   "codemirror_mode": {
    "name": "ipython",
    "version": 3
   },
   "file_extension": ".py",
   "mimetype": "text/x-python",
   "name": "python",
   "nbconvert_exporter": "python",
   "pygments_lexer": "ipython3",
   "version": "3.7.6"
  }
 },
 "nbformat": 4,
 "nbformat_minor": 4
}
