{
 "cells": [
  {
   "cell_type": "markdown",
   "metadata": {},
   "source": [
    "# Word Vectors\n",
    "\n",
    "Word2Vec is a 2 layer neural net that processes texts.\n",
    "\n",
    "\n",
    "It's input is a text- corpus and output is a set of vectores.\n"
   ]
  },
  {
   "cell_type": "code",
   "execution_count": 1,
   "metadata": {},
   "outputs": [],
   "source": [
    "import spacy\n",
    "\n",
    "nlp = spacy.load('en_core_web_md')"
   ]
  },
  {
   "cell_type": "code",
   "execution_count": 2,
   "metadata": {},
   "outputs": [
    {
     "data": {
      "text/plain": [
       "array([ 1.8963e-01, -4.0309e-01,  3.5350e-01, -4.7907e-01, -4.3311e-01,\n",
       "        2.3857e-01,  2.6962e-01,  6.4332e-02,  3.0767e-01,  1.3712e+00,\n",
       "       -3.7582e-01, -2.2713e-01, -3.5657e-01, -2.5355e-01,  1.7543e-02,\n",
       "        3.3962e-01,  7.4723e-02,  5.1226e-01, -3.9759e-01,  5.1333e-03,\n",
       "       -3.0929e-01,  4.8911e-02, -1.8610e-01, -4.1702e-01, -8.1639e-01,\n",
       "       -1.6908e-01, -2.6246e-01, -1.5983e-02,  1.2479e-01, -3.7276e-02,\n",
       "       -5.7125e-01, -1.6296e-01,  1.2376e-01, -5.5464e-02,  1.3244e-01,\n",
       "        2.7519e-02,  1.2592e-01, -3.2722e-01, -4.9165e-01, -3.5559e-01,\n",
       "       -3.0630e-01,  6.1185e-02, -1.6932e-01, -6.2405e-02,  6.5763e-01,\n",
       "       -2.7925e-01, -3.0450e-03, -2.2400e-02, -2.8015e-01, -2.1975e-01,\n",
       "       -4.3188e-01,  3.9864e-02, -2.2102e-01, -4.2693e-02,  5.2748e-02,\n",
       "        2.8726e-01,  1.2315e-01, -2.8662e-02,  7.8294e-02,  4.6754e-01,\n",
       "       -2.4589e-01, -1.1064e-01,  7.2250e-02, -9.4980e-02, -2.7548e-01,\n",
       "       -5.4097e-01,  1.2823e-01, -8.2408e-02,  3.1035e-01, -6.3394e-02,\n",
       "       -7.3755e-01, -5.4992e-01,  9.9999e-02, -2.0758e-01, -3.9674e-02,\n",
       "        2.0664e-01, -9.7557e-02, -3.7092e-01,  2.7901e-01, -6.2218e-01,\n",
       "       -1.0280e-01,  2.3271e-01,  4.3838e-01,  3.2445e-02, -2.9866e-01,\n",
       "       -7.3611e-02,  7.1594e-01,  1.4241e-01,  2.7770e-01, -3.9892e-01,\n",
       "        3.6656e-02,  1.5759e-01,  8.2014e-02, -5.7343e-01,  3.5457e-01,\n",
       "        2.2491e-01, -6.2699e-01, -8.8106e-02,  2.4361e-01,  3.8533e-01,\n",
       "       -1.4083e-01,  1.7691e-01,  7.0897e-02,  1.7951e-01, -4.5907e-01,\n",
       "       -8.2120e-01, -2.6631e-02,  6.2549e-02,  4.2415e-01, -8.9630e-02,\n",
       "       -2.4654e-01,  1.4156e-01,  4.0187e-01, -4.1232e-01,  8.4516e-02,\n",
       "       -1.0626e-01,  7.3145e-01,  1.9217e-01,  1.4240e-01,  2.8511e-01,\n",
       "       -2.9454e-01, -2.1948e-01,  9.0460e-01, -1.9098e-01, -1.0340e+00,\n",
       "       -1.5754e-01, -1.1964e-01,  4.9888e-01, -1.0624e+00, -3.2820e-01,\n",
       "       -1.1232e-02, -7.9482e-01,  3.7275e-01, -6.8710e-03, -2.5772e-01,\n",
       "       -4.7005e-01, -4.1387e-01, -6.4089e-02, -2.8033e-01, -4.0778e-02,\n",
       "       -2.4866e+00,  6.2494e-03, -1.0210e-02,  1.2752e-01,  3.4965e-01,\n",
       "       -1.2571e-01,  3.1570e-01,  4.1926e-01,  2.0056e-01, -5.5984e-01,\n",
       "       -2.2801e-01,  1.2012e-01, -2.0518e-03, -8.9764e-02, -8.0373e-02,\n",
       "        1.1969e-02, -2.6978e-01,  3.4829e-01,  7.3664e-03, -1.1137e-01,\n",
       "        6.3410e-01,  3.8449e-01, -6.2248e-01,  4.1145e-02,  2.5922e-01,\n",
       "        6.5811e-01, -4.9548e-01, -1.3030e-01, -3.8279e-01,  1.1156e-01,\n",
       "       -4.3085e-01,  3.4473e-01,  2.7109e-02, -2.5108e-01, -2.8011e-01,\n",
       "        2.1662e-01,  3.2660e-01,  5.5895e-02,  7.6077e-02, -5.2480e-02,\n",
       "        4.5928e-02, -2.5266e-01,  5.2845e-01, -1.3145e-01, -1.2453e-01,\n",
       "        4.0556e-01,  3.1877e-01,  2.4415e-02, -2.2620e-01, -6.1960e-01,\n",
       "       -4.0886e-01, -3.5534e-02, -5.5123e-03,  2.3438e-01,  8.7854e-01,\n",
       "       -2.5161e-01,  4.0600e-01, -4.4284e-01,  3.4934e-01, -5.6429e-01,\n",
       "       -2.3676e-01,  6.2199e-01, -2.8175e-01,  4.2024e-01,  1.0043e-01,\n",
       "       -1.4720e-01,  4.9593e-01, -3.5850e-01, -1.3998e-01, -2.7494e-01,\n",
       "        2.3827e-01,  5.7268e-01,  7.9025e-02,  1.7872e-02, -2.1829e-01,\n",
       "        5.5050e-02, -5.4200e-01,  1.6788e-01,  3.9065e-01,  3.0209e-01,\n",
       "        2.3040e-01, -3.9351e-02, -2.1078e-01, -2.7224e-01,  1.6907e-01,\n",
       "        5.4819e-01,  9.4888e-02,  7.9798e-01, -6.6158e-02,  1.9844e-01,\n",
       "        2.0307e-01,  4.4808e-02, -1.0240e-01, -6.9909e-02, -3.6756e-02,\n",
       "        9.5159e-02, -2.7830e-01, -1.0597e-01, -1.6276e-01, -1.8211e-01,\n",
       "       -3.1897e-01, -2.1633e-01,  1.4994e-01, -7.2057e-02,  2.2264e-01,\n",
       "       -4.5551e-01,  3.0341e-01,  1.8431e-01,  2.1681e-01, -3.1940e-01,\n",
       "        2.6426e-01,  5.8106e-01,  5.4635e-02,  6.3238e-01,  4.3169e-01,\n",
       "        9.0343e-02,  1.9494e-01,  3.5483e-01, -2.0706e-02, -7.3117e-01,\n",
       "        1.2941e-01,  1.7418e-01, -1.5065e-01,  5.3355e-02,  4.4794e-02,\n",
       "       -1.6600e-01,  2.2007e-01, -5.3970e-01, -2.4968e-01, -2.6464e-01,\n",
       "       -5.5515e-01,  5.8242e-01,  2.2295e-01,  2.4433e-01,  4.5275e-01,\n",
       "        3.4693e-01,  1.2255e-01, -3.9059e-02, -3.2749e-01, -2.7891e-01,\n",
       "        1.3766e-01,  3.8392e-01,  1.0543e-03, -1.0242e-02,  4.9205e-01,\n",
       "       -1.7922e-01,  4.1215e-02,  1.3547e-01, -2.0598e-01, -2.3194e-01,\n",
       "       -7.7701e-01, -3.8237e-01, -7.6383e-01,  1.9418e-01, -1.5441e-01,\n",
       "        8.9740e-01,  3.0626e-01,  4.0376e-01,  2.1738e-01, -3.8050e-01],\n",
       "      dtype=float32)"
      ]
     },
     "execution_count": 2,
     "metadata": {},
     "output_type": "execute_result"
    }
   ],
   "source": [
    "nlp(u'lion').vector"
   ]
  },
  {
   "cell_type": "code",
   "execution_count": 4,
   "metadata": {},
   "outputs": [],
   "source": [
    "sentence= nlp(u'The quick brown fox.').vector"
   ]
  },
  {
   "cell_type": "code",
   "execution_count": 5,
   "metadata": {},
   "outputs": [
    {
     "name": "stdout",
     "output_type": "stream",
     "text": [
      "[-1.76877797e-01  3.66011970e-02 -5.52759990e-02 -2.49159336e-03\n",
      " -3.07810046e-02  1.59947842e-01 -9.40619931e-02  7.52519956e-03\n",
      "  7.27787986e-02  1.51336801e+00 -4.94589984e-01 -3.40774059e-02\n",
      " -6.93820696e-03 -2.20588207e-01 -2.19769597e-01  3.92371938e-02\n",
      "  1.09132025e-02  1.27322996e+00 -5.05970009e-02 -2.92905390e-01\n",
      " -1.30206198e-01 -2.45127939e-02 -5.97047992e-02 -1.79295808e-01\n",
      "  5.15526831e-02 -1.68237947e-02 -3.27663988e-01 -5.26359677e-03\n",
      "  4.74640019e-02 -1.79645613e-01 -1.17092945e-01  1.32316008e-01\n",
      "  9.73507911e-02 -2.59688012e-02  8.73496085e-02 -5.42860031e-02\n",
      "  5.26579991e-02  6.15022779e-02 -3.33649814e-02 -1.01813994e-01\n",
      "  1.15079604e-01  9.26200114e-03  6.43986017e-02 -2.26935595e-01\n",
      "  1.27823204e-01  1.00187197e-01 -2.75902003e-01  9.63033885e-02\n",
      "  9.53461900e-02 -8.08372051e-02 -1.38648793e-01  1.09591603e-01\n",
      "  2.88669970e-02 -1.52791411e-01 -8.47773999e-02 -5.29531837e-02\n",
      "  1.31630050e-02  2.58223802e-01 -1.06442176e-01 -1.23729989e-01\n",
      " -6.59231767e-02  1.65277924e-02  1.75893590e-01  1.31246805e-01\n",
      " -1.41679943e-02 -1.39966398e-01  1.13879917e-02 -2.24000216e-03\n",
      " -1.71275996e-02  3.32939997e-02  5.18740043e-02 -1.80667993e-02\n",
      "  8.70978013e-02  7.56290033e-02  4.72769961e-02 -1.76613197e-01\n",
      " -1.43573478e-01 -1.55506013e-02 -3.45885940e-02 -7.30533972e-02\n",
      " -1.63281798e-01  1.53009206e-01  1.01459976e-02  1.28782496e-01\n",
      "  5.72219975e-02 -2.39156008e-01  6.56845987e-01  3.83751392e-01\n",
      "  3.01973403e-01  1.27974600e-01 -7.90916011e-02  1.80965811e-01\n",
      "  4.77645993e-02 -2.90058196e-01  2.52546012e-01 -6.33453950e-02\n",
      " -1.37650207e-01 -7.79886022e-02 -5.66280074e-02 -2.11804599e-01\n",
      "  1.46710008e-01 -1.11180004e-02 -9.96613950e-02  5.10560255e-03\n",
      "  1.01801991e-01 -5.40755987e-01  2.07659990e-01 -7.42739961e-02\n",
      "  2.24270001e-02 -2.68509928e-02 -5.30851968e-02 -1.32689595e-01\n",
      "  7.44925961e-02 -2.43578792e-01  1.22705996e-02  1.71518251e-01\n",
      " -1.67352036e-02  1.15658073e-02 -8.98799300e-03 -1.90334022e-02\n",
      " -3.65760038e-03 -1.29053995e-01 -6.70075864e-02 -4.10977118e-02\n",
      " -3.02029997e-01  2.03434616e-01  8.52980018e-02 -1.12025999e-01\n",
      "  6.14391938e-02 -6.16120026e-02 -6.44355938e-02 -2.46221587e-01\n",
      " -1.24556996e-01  3.37466002e-02 -1.54080018e-02  9.60582048e-02\n",
      " -1.20564021e-01 -8.91061947e-02  5.01464978e-02 -2.19751805e-01\n",
      " -1.91895998e+00  3.21465954e-02  1.80124000e-01  6.64082021e-02\n",
      "  1.60323411e-01 -6.38072044e-02  4.24100012e-02  6.18457906e-02\n",
      " -3.08728032e-02  1.19180813e-01  5.20460010e-02 -9.96005982e-02\n",
      "  5.84514029e-02 -7.69725963e-02 -2.57965624e-01  1.38383403e-01\n",
      " -2.15372398e-01 -2.00305972e-02  2.36760383e-03 -3.56208012e-02\n",
      "  1.83637980e-02 -1.92417011e-01 -1.96166396e-01 -1.17430035e-02\n",
      "  3.06740012e-02 -2.57841647e-01 -3.21089923e-02 -6.56965971e-02\n",
      "  1.95239987e-02 -1.63812801e-01  9.84157994e-02  1.01402000e-01\n",
      " -2.23314002e-01 -1.10759400e-01 -2.62227476e-01 -5.27957901e-02\n",
      "  2.72517204e-01 -3.22393999e-02  2.74293963e-02  1.23455808e-01\n",
      " -1.28872603e-01 -1.39312789e-01 -1.76916003e-01 -1.44235998e-01\n",
      "  7.84515962e-02  1.91350386e-01 -1.69899948e-02 -1.47853002e-01\n",
      "  5.41364029e-02  1.49239597e-04  9.54038054e-02  3.32805999e-02\n",
      "  1.74349993e-01  5.28820138e-03  7.69263655e-02  2.46454626e-01\n",
      "  1.08580604e-01  2.38188095e-02  8.91485959e-02  5.50999865e-02\n",
      " -1.50662005e-01  5.36380000e-02 -1.32095993e-01  1.26455994e-02\n",
      "  2.21522003e-01  1.01398602e-01  2.23050006e-02 -6.05004020e-02\n",
      " -1.63663328e-01  8.40831995e-02  6.83397949e-02  1.54278994e-01\n",
      " -4.71239984e-02  1.68378800e-01  1.22745611e-01  1.15569197e-01\n",
      " -2.28084803e-01  8.74152035e-02 -4.72029969e-02  3.00705820e-01\n",
      "  7.72850066e-02 -8.20761919e-02 -6.06521964e-02  2.19943121e-01\n",
      " -1.23223759e-01 -2.56153978e-02  1.14536203e-01  1.44505188e-01\n",
      "  4.79338020e-02  3.55894029e-01 -4.43044007e-02 -1.06277004e-01\n",
      " -3.03954575e-02  9.25411955e-02 -4.24439982e-02 -1.75215974e-02\n",
      " -1.11577593e-01 -1.22283481e-01  1.40474603e-01  2.44991779e-01\n",
      " -6.80399984e-02 -8.94810110e-02 -5.90118058e-02 -1.31388813e-01\n",
      "  9.58577991e-02 -8.10298100e-02 -1.61697611e-01  4.55820039e-02\n",
      " -2.66147405e-01  3.91600141e-03  7.75078088e-02 -7.17999935e-02\n",
      " -2.07296014e-01  3.92902419e-02  1.01770997e-01  1.41201004e-01\n",
      "  2.01894999e-01  1.82085969e-02  2.17119996e-02  2.77102031e-02\n",
      "  8.38719904e-02  1.21420190e-01  1.92554399e-01 -8.84460062e-02\n",
      "  8.04919973e-02 -2.88306415e-01 -3.05866003e-02  3.33839585e-03\n",
      "  2.21499912e-02  1.60262004e-01 -7.35829920e-02  1.75801009e-01\n",
      " -1.43137397e-02 -2.08498001e-01 -9.83140022e-02  6.44232035e-02\n",
      "  8.69299993e-02  1.07273400e-01 -7.32852072e-02  9.84615013e-02\n",
      "  2.98180014e-01  3.53478082e-02 -3.40513960e-02  2.76387874e-02\n",
      " -1.14477798e-01 -1.93706080e-02  4.47499938e-02  1.15042087e-02\n",
      "  1.02471806e-01 -1.12882003e-01 -1.78872809e-01  2.37448573e-01\n",
      " -1.59923807e-01 -1.45555601e-01 -9.59975943e-02  6.01292029e-02\n",
      "  1.14770606e-01 -2.41579721e-03 -2.80923784e-01  3.15799052e-03]\n"
     ]
    }
   ],
   "source": [
    "print(sentence)"
   ]
  },
  {
   "cell_type": "code",
   "execution_count": 6,
   "metadata": {},
   "outputs": [
    {
     "data": {
      "text/plain": [
       "(300,)"
      ]
     },
     "execution_count": 6,
     "metadata": {},
     "output_type": "execute_result"
    }
   ],
   "source": [
    "sentence.shape"
   ]
  },
  {
   "cell_type": "markdown",
   "metadata": {},
   "source": [
    "Document is an average of all the singular words. So the domension of the word and the document will be same.\n",
    "\n",
    "Word.shape = Document.shape"
   ]
  },
  {
   "cell_type": "code",
   "execution_count": 7,
   "metadata": {},
   "outputs": [],
   "source": [
    "word= nlp(u'The fox').vector"
   ]
  },
  {
   "cell_type": "code",
   "execution_count": 8,
   "metadata": {},
   "outputs": [
    {
     "name": "stdout",
     "output_type": "stream",
     "text": [
      "[-3.83199900e-02 -6.98750019e-02 -5.32499701e-03 -3.58639993e-02\n",
      " -2.35523999e-01  1.22254603e-01  3.53349969e-02  1.07483000e-01\n",
      "  1.06077000e-01  1.74360502e+00 -4.34870005e-01 -3.60350013e-01\n",
      " -1.20130002e-01 -1.19364999e-01 -2.17680007e-01  5.61049953e-02\n",
      " -1.42525494e-01  6.63575053e-01 -6.65775016e-02 -2.38835007e-01\n",
      " -4.39305007e-02 -2.91749984e-02  1.45489983e-02 -2.53175497e-01\n",
      " -5.62990010e-02 -3.21845002e-02 -5.93044996e-01  1.25864506e-01\n",
      " -2.42540002e-01  5.05499989e-02 -2.38628849e-01  3.55439991e-01\n",
      "  2.58955002e-01  1.49115995e-01  1.91091508e-01 -1.44106507e-01\n",
      " -2.43200064e-02 -6.46943003e-02 -1.25732452e-01 -6.54640049e-02\n",
      "  1.42968506e-01  3.71405005e-01 -1.08907506e-01 -1.41299963e-02\n",
      "  2.13974983e-01 -1.29720010e-02 -2.30935007e-01 -1.49752557e-01\n",
      "  1.48822501e-01  4.60119992e-02 -1.63204998e-01  5.42239994e-02\n",
      " -1.42634988e-01 -1.00055009e-01 -1.14126503e-01 -2.05929503e-02\n",
      "  9.10675004e-02  3.00569504e-01 -1.31655991e-01 -1.87949985e-02\n",
      " -8.05179477e-02  1.15847498e-01  1.35919005e-01  1.95527002e-01\n",
      "  6.66500255e-03 -2.08004504e-01  5.72520010e-02 -1.74129993e-01\n",
      "  4.29510027e-02 -3.62879992e-01  4.30950001e-02 -1.88001990e-01\n",
      "  8.14389959e-02  4.78880033e-02 -1.23625007e-02 -7.94875026e-02\n",
      " -2.48243496e-01  6.49850070e-03  1.11098498e-01  3.07615008e-02\n",
      " -2.56894499e-01  1.85010999e-01 -3.40450034e-02  1.67686254e-01\n",
      "  2.87699997e-01 -1.51855007e-01  2.40789980e-01  3.47848475e-01\n",
      "  1.96578503e-01  7.22265020e-02 -1.34656996e-01  2.03779995e-01\n",
      " -7.04379976e-02 -5.06605029e-01  4.32325006e-01 -5.69770038e-02\n",
      " -1.69033006e-01 -1.06006503e-01  9.76250023e-02 -5.17365001e-02\n",
      "  1.90405011e-01 -9.15450007e-02  1.48614999e-02  1.31031498e-01\n",
      "  2.37499997e-01 -7.39690006e-01  2.64554977e-01 -2.96000019e-02\n",
      " -1.44190013e-01 -2.07252502e-01 -1.77118003e-01  1.27195999e-01\n",
      "  1.16396502e-01 -2.29279995e-01  1.28481507e-01  2.60585010e-01\n",
      " -1.29647002e-01  2.66000003e-01 -1.45899951e-02  6.99784979e-02\n",
      "  5.15804999e-02 -1.80565000e-01  1.14250034e-02 -2.61499494e-01\n",
      " -5.26250005e-01  2.09164992e-02 -2.17909999e-02  1.04594998e-01\n",
      " -1.86398506e-01 -1.18739009e-01 -1.28613994e-01 -1.07323997e-01\n",
      " -1.08931497e-01 -1.29550010e-01 -2.06165016e-02  1.13013506e-01\n",
      " -4.65015054e-01 -7.63499886e-02  1.80118501e-01 -4.08845007e-01\n",
      " -1.97909999e+00 -2.68653512e-01  3.86100039e-02  3.44684981e-02\n",
      "  3.82880002e-01 -3.81180011e-02  2.45510012e-01 -3.14950049e-02\n",
      " -6.09999895e-03 -7.74334967e-02 -6.99850023e-02 -7.82705024e-02\n",
      "  8.37669969e-02 -7.53464997e-02 -2.82805022e-02  5.21674976e-02\n",
      " -2.12545007e-01  2.01940000e-01 -1.94090992e-01  2.73804963e-02\n",
      "  5.78050017e-02 -2.43519992e-01 -3.71305019e-01  1.01772502e-01\n",
      "  1.06125005e-01 -2.11866498e-01  3.41500342e-03 -7.52720013e-02\n",
      " -3.50700021e-02 -2.17565492e-01  2.16629997e-01  1.28485009e-01\n",
      " -1.99919999e-01  6.37499988e-02 -1.90270007e-01  1.01477005e-01\n",
      "  3.16650003e-01  1.71438500e-01  2.57500261e-03  2.39982516e-01\n",
      "  1.33669991e-02 -2.65854985e-01  5.44750094e-02 -3.24200019e-02\n",
      "  6.13925010e-02  1.90165997e-01 -1.55489996e-01 -1.89340502e-01\n",
      "  2.23196000e-01 -1.44822896e-01  7.40595013e-02  4.38349992e-02\n",
      " -1.11845002e-01  3.17499787e-03 -1.26739005e-02  4.36065018e-01\n",
      "  5.13814986e-02  5.13489991e-02  6.93050027e-02 -5.03550023e-02\n",
      " -2.79994994e-01  2.57470012e-01 -2.33680010e-01  4.29200009e-02\n",
      "  3.21399987e-01  6.06150180e-03  1.58216998e-01 -7.75884986e-02\n",
      " -1.80124998e-01 -3.13749984e-02 -8.77100006e-02  3.71174991e-01\n",
      "  7.32949972e-02  2.56191015e-01 -9.97589976e-02  1.55821502e-01\n",
      " -4.20215011e-01  1.62908003e-01 -1.56268001e-01  2.39253506e-01\n",
      "  1.86861992e-01 -2.67149992e-02 -5.33284992e-02 -1.88052002e-02\n",
      " -4.28820014e-01  1.07020006e-01  5.45674980e-01  3.32709998e-01\n",
      "  2.50609994e-01  3.53285015e-01 -2.20431000e-01 -9.98125002e-02\n",
      " -1.63134992e-01  1.00552998e-01 -1.09084994e-01  1.12349996e-02\n",
      "  4.85350005e-02 -1.36814997e-01  1.27059013e-01  1.97499499e-01\n",
      " -2.14455009e-01 -1.88535005e-01  1.41733497e-01 -2.38366991e-01\n",
      "  9.84745026e-02 -2.36355007e-01  1.62005991e-01  1.99585021e-01\n",
      " -3.38280022e-01 -2.47905001e-01  1.08814500e-01  3.64000015e-02\n",
      "  7.23650008e-02 -2.71850005e-02  9.57324952e-02  1.71255007e-01\n",
      "  1.59789994e-01  2.68079996e-01  2.41944999e-01 -1.43069491e-01\n",
      "  3.20659995e-01  1.11249000e-01  1.27720997e-01 -2.03985006e-01\n",
      "  3.37320000e-01 -4.19574976e-01  4.66035008e-02  6.92489967e-02\n",
      " -7.86499679e-03 -1.32189989e-01 -2.07074985e-01  2.49625504e-01\n",
      " -1.34323359e-01  3.47149968e-02  2.54565001e-01  1.24499947e-03\n",
      " -1.06890000e-01  2.90780008e-01 -2.48722017e-01  1.06693998e-01\n",
      "  2.08130002e-01  2.00690001e-01 -2.51909979e-02  1.01601996e-01\n",
      "  1.41195491e-01 -5.39501011e-03 -4.46405038e-02 -1.48630992e-01\n",
      "  1.27404511e-01 -1.85425013e-01 -3.55574995e-01  2.19615012e-01\n",
      " -2.14845002e-01 -9.01349932e-02 -8.57689977e-02 -2.76458979e-01\n",
      "  8.79264995e-02  1.26880005e-01 -3.68434995e-01 -2.06245005e-01]\n"
     ]
    }
   ],
   "source": [
    "print(word)"
   ]
  },
  {
   "cell_type": "code",
   "execution_count": 9,
   "metadata": {},
   "outputs": [
    {
     "data": {
      "text/plain": [
       "(300,)"
      ]
     },
     "execution_count": 9,
     "metadata": {},
     "output_type": "execute_result"
    }
   ],
   "source": [
    "word.shape"
   ]
  },
  {
   "cell_type": "code",
   "execution_count": 10,
   "metadata": {},
   "outputs": [],
   "source": [
    "tokens = nlp(u'lion cat pet')"
   ]
  },
  {
   "cell_type": "code",
   "execution_count": 12,
   "metadata": {},
   "outputs": [
    {
     "name": "stdout",
     "output_type": "stream",
     "text": [
      "lion lion 1.0\n",
      "lion cat 0.52654374\n",
      "lion pet 0.39923766\n",
      "cat lion 0.52654374\n",
      "cat cat 1.0\n",
      "cat pet 0.7505456\n",
      "pet lion 0.39923766\n",
      "pet cat 0.7505456\n",
      "pet pet 1.0\n"
     ]
    }
   ],
   "source": [
    "# check the similarity betwwen the owrds. Check the similarity rate.\n",
    "\n",
    "for token1 in tokens:\n",
    "    for token2 in tokens:\n",
    "        print(token1.text, token2.text, token1.similarity(token2))"
   ]
  },
  {
   "cell_type": "code",
   "execution_count": 18,
   "metadata": {},
   "outputs": [],
   "source": [
    "# Words with similar context though diff meaning can also have a similar vectors\n",
    "# love hate 0.6393099 ,,,,,,,,, hate like 0.6574652\n",
    "\n",
    "\n",
    "tok = nlp(u'like love hate')"
   ]
  },
  {
   "cell_type": "code",
   "execution_count": 19,
   "metadata": {},
   "outputs": [
    {
     "name": "stdout",
     "output_type": "stream",
     "text": [
      "like like 1.0\n",
      "like love 0.65790397\n",
      "like hate 0.6574652\n",
      "love like 0.65790397\n",
      "love love 1.0\n",
      "love hate 0.6393099\n",
      "hate like 0.6574652\n",
      "hate love 0.6393099\n",
      "hate hate 1.0\n"
     ]
    }
   ],
   "source": [
    "# check the similarity betwwen the owrds. Check the similarity rate.\n",
    "# love hate 0.6393099 ,,,,,,,,, hate like 0.6574652\n",
    "\n",
    "for token1 in tok:\n",
    "    for token2 in tok:\n",
    "        print(token1.text, token2.text, token1.similarity(token2))"
   ]
  },
  {
   "cell_type": "code",
   "execution_count": 21,
   "metadata": {},
   "outputs": [
    {
     "data": {
      "text/plain": [
       "20000"
      ]
     },
     "execution_count": 21,
     "metadata": {},
     "output_type": "execute_result"
    }
   ],
   "source": [
    "# Find the length of all the vectors in the vocabulary\n",
    "\n",
    "len(nlp.vocab.vectors)"
   ]
  },
  {
   "cell_type": "code",
   "execution_count": 23,
   "metadata": {},
   "outputs": [
    {
     "data": {
      "text/plain": [
       "(20000, 300)"
      ]
     },
     "execution_count": 23,
     "metadata": {},
     "output_type": "execute_result"
    }
   ],
   "source": [
    "# Find the shape of all the vectors in the vocabulary\n",
    "\n",
    "nlp.vocab.vectors.shape"
   ]
  },
  {
   "cell_type": "code",
   "execution_count": 27,
   "metadata": {},
   "outputs": [
    {
     "name": "stdout",
     "output_type": "stream",
     "text": [
      "Dog True 7.0336733 False\n",
      "Cat True 6.6808186 False\n",
      "Tanu False 0.0 True\n"
     ]
    }
   ],
   "source": [
    "# Find if the word is there in the vector vocab or not\n",
    "# OOV---> Out Of Vocabulary\n",
    "\n",
    "tokens= nlp(u'Dog Cat Tanu')\n",
    "\n",
    "for token in tokens:\n",
    "    print(token.text, token.has_vector, token.vector_norm, token.is_oov)"
   ]
  },
  {
   "cell_type": "code",
   "execution_count": 29,
   "metadata": {},
   "outputs": [
    {
     "name": "stdout",
     "output_type": "stream",
     "text": [
      "Dog True 7.0336733 False\n",
      "Cat True 6.6808186 False\n",
      "John True 6.533578 False\n"
     ]
    }
   ],
   "source": [
    "# Common names can be vectorised (eg: John)\n",
    "\n",
    "tokens= nlp(u'Dog Cat John')\n",
    "\n",
    "for token in tokens:\n",
    "    print(token.text, token.has_vector, token.vector_norm, token.is_oov)"
   ]
  },
  {
   "cell_type": "markdown",
   "metadata": {},
   "source": [
    "# Calculate a  new vector"
   ]
  },
  {
   "cell_type": "code",
   "execution_count": 47,
   "metadata": {},
   "outputs": [],
   "source": [
    "# Calculate a  new vector\n",
    "# Calculating cosine similaity\n",
    "# This returns 1- cosine_similarity\n",
    "from scipy import spatial\n",
    "cosine_similarity = lambda vec1,vec2: 1 - spatial.distance.cosine(vec1,vec2)"
   ]
  },
  {
   "cell_type": "code",
   "execution_count": 48,
   "metadata": {},
   "outputs": [],
   "source": [
    "king = nlp.vocab['king'].vector\n",
    "man = nlp.vocab['man'].vector\n",
    "woman = nlp.vocab['woman'].vector"
   ]
  },
  {
   "cell_type": "markdown",
   "metadata": {},
   "source": [
    "# king - man + woman ---> New_vector\n",
    "#this should be similar to queen, princess, highness."
   ]
  },
  {
   "cell_type": "code",
   "execution_count": 50,
   "metadata": {},
   "outputs": [],
   "source": [
    "new_vector = king-man+woman"
   ]
  },
  {
   "cell_type": "code",
   "execution_count": 51,
   "metadata": {},
   "outputs": [],
   "source": [
    "# For All the Words in the Vocab\n",
    "\n",
    "computed_similarites=[]\n",
    "\n",
    "for word in nlp.vocab:\n",
    "    if word.has_vector:\n",
    "        if word.is_lower:\n",
    "            if word.is_alpha:\n",
    "                similarity =cosine_similarity(new_vector,word.vector)\n",
    "                computed_similarites.append((word, similarity))"
   ]
  },
  {
   "cell_type": "code",
   "execution_count": 52,
   "metadata": {},
   "outputs": [],
   "source": [
    "# Sorting the list of words obtained\n",
    "computed_similarites = sorted(computed_similarites, key=lambda item:-item[1])"
   ]
  },
  {
   "cell_type": "code",
   "execution_count": 53,
   "metadata": {},
   "outputs": [
    {
     "name": "stdout",
     "output_type": "stream",
     "text": [
      "['king', 'woman', 'she', 'lion', 'who', 'fox', 'brown', 'when', 'dare', 'cat']\n"
     ]
    }
   ],
   "source": [
    "print([t[0].text for t in computed_similarites[:10]])"
   ]
  },
  {
   "cell_type": "markdown",
   "metadata": {},
   "source": [
    "# SENTIMENT ANALYSIS.."
   ]
  },
  {
   "cell_type": "markdown",
   "metadata": {},
   "source": [
    "# VADER SENTIMENT ANALYSIS WITH PYTHON AND NLTK\n",
    "\n",
    "Valence Aware Dictionary for Sentiment Reasoning (vader) is a model used for text sentiment analysis that is sensitive to both polarity(positive/negative) and intensity (strength) of emotion.\n",
    "\n",
    "Primarily Vader sentiment Analysis relies on a dictionary which maps lexical features to emotion intensities called sentiment scores.\n",
    "\n",
    "The sentiment scores can be obtaines by summing up the intensity of each word in the text."
   ]
  },
  {
   "cell_type": "code",
   "execution_count": 54,
   "metadata": {},
   "outputs": [
    {
     "name": "stderr",
     "output_type": "stream",
     "text": [
      "[nltk_data] Downloading package vader_lexicon to\n",
      "[nltk_data]     C:\\Users\\ebineet\\AppData\\Roaming\\nltk_data...\n"
     ]
    },
    {
     "data": {
      "text/plain": [
       "True"
      ]
     },
     "execution_count": 54,
     "metadata": {},
     "output_type": "execute_result"
    }
   ],
   "source": [
    "import nltk\n",
    "nltk.download('vader_lexicon')"
   ]
  },
  {
   "cell_type": "code",
   "execution_count": 55,
   "metadata": {},
   "outputs": [],
   "source": [
    "from nltk.sentiment.vader import SentimentIntensityAnalyzer"
   ]
  },
  {
   "cell_type": "code",
   "execution_count": 56,
   "metadata": {},
   "outputs": [],
   "source": [
    "# Creating an instance\n",
    "sid= SentimentIntensityAnalyzer()"
   ]
  },
  {
   "cell_type": "code",
   "execution_count": 57,
   "metadata": {},
   "outputs": [],
   "source": [
    "a = \"this si a good movie\""
   ]
  },
  {
   "cell_type": "code",
   "execution_count": 58,
   "metadata": {},
   "outputs": [
    {
     "data": {
      "text/plain": [
       "{'neg': 0.0, 'neu': 0.508, 'pos': 0.492, 'compound': 0.4404}"
      ]
     },
     "execution_count": 58,
     "metadata": {},
     "output_type": "execute_result"
    }
   ],
   "source": [
    "sid.polarity_scores(a)"
   ]
  },
  {
   "cell_type": "code",
   "execution_count": 59,
   "metadata": {},
   "outputs": [],
   "source": [
    "b = \"This was the best, most Awesome movie Ever Made!!!\""
   ]
  },
  {
   "cell_type": "code",
   "execution_count": 60,
   "metadata": {},
   "outputs": [
    {
     "data": {
      "text/plain": [
       "{'neg': 0.0, 'neu': 0.425, 'pos': 0.575, 'compound': 0.8877}"
      ]
     },
     "execution_count": 60,
     "metadata": {},
     "output_type": "execute_result"
    }
   ],
   "source": [
    "sid.polarity_scores(b)"
   ]
  },
  {
   "cell_type": "code",
   "execution_count": 61,
   "metadata": {},
   "outputs": [],
   "source": [
    "c = \"This was the WORST movie that has ever disgraced the screen.\""
   ]
  },
  {
   "cell_type": "code",
   "execution_count": 63,
   "metadata": {},
   "outputs": [
    {
     "data": {
      "text/plain": [
       "{'neg': 0.465, 'neu': 0.535, 'pos': 0.0, 'compound': -0.8331}"
      ]
     },
     "execution_count": 63,
     "metadata": {},
     "output_type": "execute_result"
    }
   ],
   "source": [
    "# Compuod score in negative sentences become negative.\n",
    "sid.polarity_scores(c)"
   ]
  },
  {
   "cell_type": "markdown",
   "metadata": {},
   "source": [
    "# Analyse Amazon Reviews:"
   ]
  },
  {
   "cell_type": "code",
   "execution_count": 64,
   "metadata": {},
   "outputs": [],
   "source": [
    "import pandas as pd"
   ]
  },
  {
   "cell_type": "code",
   "execution_count": 65,
   "metadata": {},
   "outputs": [],
   "source": [
    "dataset= pd.read_csv('C:\\\\Users\\\\ebineet\\\\Documents\\\\GitHub\\\\NLP\\\\UPDATED_NLP_COURSE\\\\TextFiles\\\\amazonreviews.tsv', sep='\\t')"
   ]
  },
  {
   "cell_type": "code",
   "execution_count": 66,
   "metadata": {},
   "outputs": [
    {
     "data": {
      "text/html": [
       "<div>\n",
       "<style scoped>\n",
       "    .dataframe tbody tr th:only-of-type {\n",
       "        vertical-align: middle;\n",
       "    }\n",
       "\n",
       "    .dataframe tbody tr th {\n",
       "        vertical-align: top;\n",
       "    }\n",
       "\n",
       "    .dataframe thead th {\n",
       "        text-align: right;\n",
       "    }\n",
       "</style>\n",
       "<table border=\"1\" class=\"dataframe\">\n",
       "  <thead>\n",
       "    <tr style=\"text-align: right;\">\n",
       "      <th></th>\n",
       "      <th>label</th>\n",
       "      <th>review</th>\n",
       "    </tr>\n",
       "  </thead>\n",
       "  <tbody>\n",
       "    <tr>\n",
       "      <th>0</th>\n",
       "      <td>pos</td>\n",
       "      <td>Stuning even for the non-gamer: This sound tra...</td>\n",
       "    </tr>\n",
       "    <tr>\n",
       "      <th>1</th>\n",
       "      <td>pos</td>\n",
       "      <td>The best soundtrack ever to anything.: I'm rea...</td>\n",
       "    </tr>\n",
       "    <tr>\n",
       "      <th>2</th>\n",
       "      <td>pos</td>\n",
       "      <td>Amazing!: This soundtrack is my favorite music...</td>\n",
       "    </tr>\n",
       "    <tr>\n",
       "      <th>3</th>\n",
       "      <td>pos</td>\n",
       "      <td>Excellent Soundtrack: I truly like this soundt...</td>\n",
       "    </tr>\n",
       "    <tr>\n",
       "      <th>4</th>\n",
       "      <td>pos</td>\n",
       "      <td>Remember, Pull Your Jaw Off The Floor After He...</td>\n",
       "    </tr>\n",
       "  </tbody>\n",
       "</table>\n",
       "</div>"
      ],
      "text/plain": [
       "  label                                             review\n",
       "0   pos  Stuning even for the non-gamer: This sound tra...\n",
       "1   pos  The best soundtrack ever to anything.: I'm rea...\n",
       "2   pos  Amazing!: This soundtrack is my favorite music...\n",
       "3   pos  Excellent Soundtrack: I truly like this soundt...\n",
       "4   pos  Remember, Pull Your Jaw Off The Floor After He..."
      ]
     },
     "execution_count": 66,
     "metadata": {},
     "output_type": "execute_result"
    }
   ],
   "source": [
    "dataset.head()"
   ]
  },
  {
   "cell_type": "code",
   "execution_count": 67,
   "metadata": {},
   "outputs": [
    {
     "data": {
      "text/plain": [
       "neg    5097\n",
       "pos    4903\n",
       "Name: label, dtype: int64"
      ]
     },
     "execution_count": 67,
     "metadata": {},
     "output_type": "execute_result"
    }
   ],
   "source": [
    "# Check the number of negative and positive reviews.\n",
    "dataset['label'].value_counts()"
   ]
  },
  {
   "cell_type": "code",
   "execution_count": 69,
   "metadata": {},
   "outputs": [],
   "source": [
    "# Cleaning of data to check missing\n",
    "\n",
    "dataset.dropna(inplace=True)"
   ]
  },
  {
   "cell_type": "code",
   "execution_count": 71,
   "metadata": {},
   "outputs": [],
   "source": [
    "# Checking for blank reviews\n",
    "blanks =[]\n",
    "for i,lb,rv in dataset.itertuples():\n",
    "    if type(rv)== str:\n",
    "        if rv.isspace():\n",
    "            blanks.append(i)"
   ]
  },
  {
   "cell_type": "code",
   "execution_count": 72,
   "metadata": {},
   "outputs": [
    {
     "data": {
      "text/plain": [
       "'Stuning even for the non-gamer: This sound track was beautiful! It paints the senery in your mind so well I would recomend it even to people who hate vid. game music! I have played the game Chrono Cross but out of all of the games I have ever played it has the best music! It backs away from crude keyboarding and takes a fresher step with grate guitars and soulful orchestras. It would impress anyone who cares to listen! ^_^'"
      ]
     },
     "execution_count": 72,
     "metadata": {},
     "output_type": "execute_result"
    }
   ],
   "source": [
    "# FIRST REVIEW:\n",
    "dataset.iloc[0]['review']"
   ]
  },
  {
   "cell_type": "code",
   "execution_count": 73,
   "metadata": {},
   "outputs": [
    {
     "data": {
      "text/plain": [
       "{'neg': 0.088, 'neu': 0.669, 'pos': 0.243, 'compound': 0.9454}"
      ]
     },
     "execution_count": 73,
     "metadata": {},
     "output_type": "execute_result"
    }
   ],
   "source": [
    "# Running the first review through vader\n",
    "\n",
    "sid.polarity_scores(dataset.iloc[0]['review'])"
   ]
  },
  {
   "cell_type": "code",
   "execution_count": 74,
   "metadata": {},
   "outputs": [],
   "source": [
    "dataset['scores']= dataset['review'].apply(lambda review: sid.polarity_scores(review))"
   ]
  },
  {
   "cell_type": "code",
   "execution_count": 75,
   "metadata": {},
   "outputs": [
    {
     "data": {
      "text/html": [
       "<div>\n",
       "<style scoped>\n",
       "    .dataframe tbody tr th:only-of-type {\n",
       "        vertical-align: middle;\n",
       "    }\n",
       "\n",
       "    .dataframe tbody tr th {\n",
       "        vertical-align: top;\n",
       "    }\n",
       "\n",
       "    .dataframe thead th {\n",
       "        text-align: right;\n",
       "    }\n",
       "</style>\n",
       "<table border=\"1\" class=\"dataframe\">\n",
       "  <thead>\n",
       "    <tr style=\"text-align: right;\">\n",
       "      <th></th>\n",
       "      <th>label</th>\n",
       "      <th>review</th>\n",
       "      <th>scores</th>\n",
       "    </tr>\n",
       "  </thead>\n",
       "  <tbody>\n",
       "    <tr>\n",
       "      <th>0</th>\n",
       "      <td>pos</td>\n",
       "      <td>Stuning even for the non-gamer: This sound tra...</td>\n",
       "      <td>{'neg': 0.088, 'neu': 0.669, 'pos': 0.243, 'co...</td>\n",
       "    </tr>\n",
       "    <tr>\n",
       "      <th>1</th>\n",
       "      <td>pos</td>\n",
       "      <td>The best soundtrack ever to anything.: I'm rea...</td>\n",
       "      <td>{'neg': 0.018, 'neu': 0.837, 'pos': 0.145, 'co...</td>\n",
       "    </tr>\n",
       "    <tr>\n",
       "      <th>2</th>\n",
       "      <td>pos</td>\n",
       "      <td>Amazing!: This soundtrack is my favorite music...</td>\n",
       "      <td>{'neg': 0.04, 'neu': 0.692, 'pos': 0.268, 'com...</td>\n",
       "    </tr>\n",
       "    <tr>\n",
       "      <th>3</th>\n",
       "      <td>pos</td>\n",
       "      <td>Excellent Soundtrack: I truly like this soundt...</td>\n",
       "      <td>{'neg': 0.09, 'neu': 0.615, 'pos': 0.295, 'com...</td>\n",
       "    </tr>\n",
       "    <tr>\n",
       "      <th>4</th>\n",
       "      <td>pos</td>\n",
       "      <td>Remember, Pull Your Jaw Off The Floor After He...</td>\n",
       "      <td>{'neg': 0.0, 'neu': 0.746, 'pos': 0.254, 'comp...</td>\n",
       "    </tr>\n",
       "  </tbody>\n",
       "</table>\n",
       "</div>"
      ],
      "text/plain": [
       "  label                                             review  \\\n",
       "0   pos  Stuning even for the non-gamer: This sound tra...   \n",
       "1   pos  The best soundtrack ever to anything.: I'm rea...   \n",
       "2   pos  Amazing!: This soundtrack is my favorite music...   \n",
       "3   pos  Excellent Soundtrack: I truly like this soundt...   \n",
       "4   pos  Remember, Pull Your Jaw Off The Floor After He...   \n",
       "\n",
       "                                              scores  \n",
       "0  {'neg': 0.088, 'neu': 0.669, 'pos': 0.243, 'co...  \n",
       "1  {'neg': 0.018, 'neu': 0.837, 'pos': 0.145, 'co...  \n",
       "2  {'neg': 0.04, 'neu': 0.692, 'pos': 0.268, 'com...  \n",
       "3  {'neg': 0.09, 'neu': 0.615, 'pos': 0.295, 'com...  \n",
       "4  {'neg': 0.0, 'neu': 0.746, 'pos': 0.254, 'comp...  "
      ]
     },
     "execution_count": 75,
     "metadata": {},
     "output_type": "execute_result"
    }
   ],
   "source": [
    "dataset.head()"
   ]
  },
  {
   "cell_type": "code",
   "execution_count": 76,
   "metadata": {},
   "outputs": [],
   "source": [
    "dataset['compund']= dataset['scores'].apply(lambda d:d['compound'])"
   ]
  },
  {
   "cell_type": "code",
   "execution_count": 77,
   "metadata": {},
   "outputs": [
    {
     "data": {
      "text/html": [
       "<div>\n",
       "<style scoped>\n",
       "    .dataframe tbody tr th:only-of-type {\n",
       "        vertical-align: middle;\n",
       "    }\n",
       "\n",
       "    .dataframe tbody tr th {\n",
       "        vertical-align: top;\n",
       "    }\n",
       "\n",
       "    .dataframe thead th {\n",
       "        text-align: right;\n",
       "    }\n",
       "</style>\n",
       "<table border=\"1\" class=\"dataframe\">\n",
       "  <thead>\n",
       "    <tr style=\"text-align: right;\">\n",
       "      <th></th>\n",
       "      <th>label</th>\n",
       "      <th>review</th>\n",
       "      <th>scores</th>\n",
       "      <th>compund</th>\n",
       "    </tr>\n",
       "  </thead>\n",
       "  <tbody>\n",
       "    <tr>\n",
       "      <th>0</th>\n",
       "      <td>pos</td>\n",
       "      <td>Stuning even for the non-gamer: This sound tra...</td>\n",
       "      <td>{'neg': 0.088, 'neu': 0.669, 'pos': 0.243, 'co...</td>\n",
       "      <td>0.9454</td>\n",
       "    </tr>\n",
       "    <tr>\n",
       "      <th>1</th>\n",
       "      <td>pos</td>\n",
       "      <td>The best soundtrack ever to anything.: I'm rea...</td>\n",
       "      <td>{'neg': 0.018, 'neu': 0.837, 'pos': 0.145, 'co...</td>\n",
       "      <td>0.8957</td>\n",
       "    </tr>\n",
       "    <tr>\n",
       "      <th>2</th>\n",
       "      <td>pos</td>\n",
       "      <td>Amazing!: This soundtrack is my favorite music...</td>\n",
       "      <td>{'neg': 0.04, 'neu': 0.692, 'pos': 0.268, 'com...</td>\n",
       "      <td>0.9858</td>\n",
       "    </tr>\n",
       "    <tr>\n",
       "      <th>3</th>\n",
       "      <td>pos</td>\n",
       "      <td>Excellent Soundtrack: I truly like this soundt...</td>\n",
       "      <td>{'neg': 0.09, 'neu': 0.615, 'pos': 0.295, 'com...</td>\n",
       "      <td>0.9814</td>\n",
       "    </tr>\n",
       "    <tr>\n",
       "      <th>4</th>\n",
       "      <td>pos</td>\n",
       "      <td>Remember, Pull Your Jaw Off The Floor After He...</td>\n",
       "      <td>{'neg': 0.0, 'neu': 0.746, 'pos': 0.254, 'comp...</td>\n",
       "      <td>0.9781</td>\n",
       "    </tr>\n",
       "  </tbody>\n",
       "</table>\n",
       "</div>"
      ],
      "text/plain": [
       "  label                                             review  \\\n",
       "0   pos  Stuning even for the non-gamer: This sound tra...   \n",
       "1   pos  The best soundtrack ever to anything.: I'm rea...   \n",
       "2   pos  Amazing!: This soundtrack is my favorite music...   \n",
       "3   pos  Excellent Soundtrack: I truly like this soundt...   \n",
       "4   pos  Remember, Pull Your Jaw Off The Floor After He...   \n",
       "\n",
       "                                              scores  compund  \n",
       "0  {'neg': 0.088, 'neu': 0.669, 'pos': 0.243, 'co...   0.9454  \n",
       "1  {'neg': 0.018, 'neu': 0.837, 'pos': 0.145, 'co...   0.8957  \n",
       "2  {'neg': 0.04, 'neu': 0.692, 'pos': 0.268, 'com...   0.9858  \n",
       "3  {'neg': 0.09, 'neu': 0.615, 'pos': 0.295, 'com...   0.9814  \n",
       "4  {'neg': 0.0, 'neu': 0.746, 'pos': 0.254, 'comp...   0.9781  "
      ]
     },
     "execution_count": 77,
     "metadata": {},
     "output_type": "execute_result"
    }
   ],
   "source": [
    "dataset.head()"
   ]
  },
  {
   "cell_type": "code",
   "execution_count": 78,
   "metadata": {},
   "outputs": [],
   "source": [
    "dataset['comp_score']= dataset['compund'].apply(lambda score: 'pos' if score>=0 else 'neg')"
   ]
  },
  {
   "cell_type": "code",
   "execution_count": 79,
   "metadata": {},
   "outputs": [
    {
     "data": {
      "text/html": [
       "<div>\n",
       "<style scoped>\n",
       "    .dataframe tbody tr th:only-of-type {\n",
       "        vertical-align: middle;\n",
       "    }\n",
       "\n",
       "    .dataframe tbody tr th {\n",
       "        vertical-align: top;\n",
       "    }\n",
       "\n",
       "    .dataframe thead th {\n",
       "        text-align: right;\n",
       "    }\n",
       "</style>\n",
       "<table border=\"1\" class=\"dataframe\">\n",
       "  <thead>\n",
       "    <tr style=\"text-align: right;\">\n",
       "      <th></th>\n",
       "      <th>label</th>\n",
       "      <th>review</th>\n",
       "      <th>scores</th>\n",
       "      <th>compund</th>\n",
       "      <th>comp_score</th>\n",
       "    </tr>\n",
       "  </thead>\n",
       "  <tbody>\n",
       "    <tr>\n",
       "      <th>0</th>\n",
       "      <td>pos</td>\n",
       "      <td>Stuning even for the non-gamer: This sound tra...</td>\n",
       "      <td>{'neg': 0.088, 'neu': 0.669, 'pos': 0.243, 'co...</td>\n",
       "      <td>0.9454</td>\n",
       "      <td>pos</td>\n",
       "    </tr>\n",
       "    <tr>\n",
       "      <th>1</th>\n",
       "      <td>pos</td>\n",
       "      <td>The best soundtrack ever to anything.: I'm rea...</td>\n",
       "      <td>{'neg': 0.018, 'neu': 0.837, 'pos': 0.145, 'co...</td>\n",
       "      <td>0.8957</td>\n",
       "      <td>pos</td>\n",
       "    </tr>\n",
       "    <tr>\n",
       "      <th>2</th>\n",
       "      <td>pos</td>\n",
       "      <td>Amazing!: This soundtrack is my favorite music...</td>\n",
       "      <td>{'neg': 0.04, 'neu': 0.692, 'pos': 0.268, 'com...</td>\n",
       "      <td>0.9858</td>\n",
       "      <td>pos</td>\n",
       "    </tr>\n",
       "    <tr>\n",
       "      <th>3</th>\n",
       "      <td>pos</td>\n",
       "      <td>Excellent Soundtrack: I truly like this soundt...</td>\n",
       "      <td>{'neg': 0.09, 'neu': 0.615, 'pos': 0.295, 'com...</td>\n",
       "      <td>0.9814</td>\n",
       "      <td>pos</td>\n",
       "    </tr>\n",
       "    <tr>\n",
       "      <th>4</th>\n",
       "      <td>pos</td>\n",
       "      <td>Remember, Pull Your Jaw Off The Floor After He...</td>\n",
       "      <td>{'neg': 0.0, 'neu': 0.746, 'pos': 0.254, 'comp...</td>\n",
       "      <td>0.9781</td>\n",
       "      <td>pos</td>\n",
       "    </tr>\n",
       "  </tbody>\n",
       "</table>\n",
       "</div>"
      ],
      "text/plain": [
       "  label                                             review  \\\n",
       "0   pos  Stuning even for the non-gamer: This sound tra...   \n",
       "1   pos  The best soundtrack ever to anything.: I'm rea...   \n",
       "2   pos  Amazing!: This soundtrack is my favorite music...   \n",
       "3   pos  Excellent Soundtrack: I truly like this soundt...   \n",
       "4   pos  Remember, Pull Your Jaw Off The Floor After He...   \n",
       "\n",
       "                                              scores  compund comp_score  \n",
       "0  {'neg': 0.088, 'neu': 0.669, 'pos': 0.243, 'co...   0.9454        pos  \n",
       "1  {'neg': 0.018, 'neu': 0.837, 'pos': 0.145, 'co...   0.8957        pos  \n",
       "2  {'neg': 0.04, 'neu': 0.692, 'pos': 0.268, 'com...   0.9858        pos  \n",
       "3  {'neg': 0.09, 'neu': 0.615, 'pos': 0.295, 'com...   0.9814        pos  \n",
       "4  {'neg': 0.0, 'neu': 0.746, 'pos': 0.254, 'comp...   0.9781        pos  "
      ]
     },
     "execution_count": 79,
     "metadata": {},
     "output_type": "execute_result"
    }
   ],
   "source": [
    "dataset.head()"
   ]
  },
  {
   "cell_type": "code",
   "execution_count": 84,
   "metadata": {},
   "outputs": [
    {
     "name": "stdout",
     "output_type": "stream",
     "text": [
      "              precision    recall  f1-score   support\n",
      "\n",
      "         neg       0.86      0.51      0.64      5097\n",
      "         pos       0.64      0.91      0.75      4903\n",
      "\n",
      "    accuracy                           0.71     10000\n",
      "   macro avg       0.75      0.71      0.70     10000\n",
      "weighted avg       0.75      0.71      0.70     10000\n",
      "\n",
      "[[2623 2474]\n",
      " [ 435 4468]]\n"
     ]
    }
   ],
   "source": [
    "# overall report on accuracy\n",
    "\n",
    "from sklearn.metrics import accuracy_score, classification_report,confusion_matrix\n",
    "accuracy_score(dataset['label'], dataset['comp_score'])\n",
    "print(classification_report(dataset['label'], dataset['comp_score']))\n",
    "print(confusion_matrix(dataset['label'], dataset['comp_score']))"
   ]
  }
 ],
 "metadata": {
  "kernelspec": {
   "display_name": "Python 3",
   "language": "python",
   "name": "python3"
  },
  "language_info": {
   "codemirror_mode": {
    "name": "ipython",
    "version": 3
   },
   "file_extension": ".py",
   "mimetype": "text/x-python",
   "name": "python",
   "nbconvert_exporter": "python",
   "pygments_lexer": "ipython3",
   "version": "3.7.6"
  }
 },
 "nbformat": 4,
 "nbformat_minor": 4
}
