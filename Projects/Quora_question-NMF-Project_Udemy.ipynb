{
 "cells": [
  {
   "cell_type": "code",
   "execution_count": 1,
   "metadata": {},
   "outputs": [],
   "source": [
    "import pandas as pd\n",
    "import numpy as np"
   ]
  },
  {
   "cell_type": "code",
   "execution_count": 2,
   "metadata": {},
   "outputs": [],
   "source": [
    "quora_quest = pd.read_csv('C:\\\\Users\\\\ebineet\\\\Documents\\\\GitHub\\\\NLP\\\\UPDATED_NLP_COURSE\\\\05-Topic-Modeling\\\\quora_questions.csv')"
   ]
  },
  {
   "cell_type": "code",
   "execution_count": 4,
   "metadata": {},
   "outputs": [
    {
     "data": {
      "text/html": [
       "<div>\n",
       "<style scoped>\n",
       "    .dataframe tbody tr th:only-of-type {\n",
       "        vertical-align: middle;\n",
       "    }\n",
       "\n",
       "    .dataframe tbody tr th {\n",
       "        vertical-align: top;\n",
       "    }\n",
       "\n",
       "    .dataframe thead th {\n",
       "        text-align: right;\n",
       "    }\n",
       "</style>\n",
       "<table border=\"1\" class=\"dataframe\">\n",
       "  <thead>\n",
       "    <tr style=\"text-align: right;\">\n",
       "      <th></th>\n",
       "      <th>Question</th>\n",
       "    </tr>\n",
       "  </thead>\n",
       "  <tbody>\n",
       "    <tr>\n",
       "      <th>0</th>\n",
       "      <td>What is the step by step guide to invest in sh...</td>\n",
       "    </tr>\n",
       "    <tr>\n",
       "      <th>1</th>\n",
       "      <td>What is the story of Kohinoor (Koh-i-Noor) Dia...</td>\n",
       "    </tr>\n",
       "    <tr>\n",
       "      <th>2</th>\n",
       "      <td>How can I increase the speed of my internet co...</td>\n",
       "    </tr>\n",
       "    <tr>\n",
       "      <th>3</th>\n",
       "      <td>Why am I mentally very lonely? How can I solve...</td>\n",
       "    </tr>\n",
       "    <tr>\n",
       "      <th>4</th>\n",
       "      <td>Which one dissolve in water quikly sugar, salt...</td>\n",
       "    </tr>\n",
       "    <tr>\n",
       "      <th>...</th>\n",
       "      <td>...</td>\n",
       "    </tr>\n",
       "    <tr>\n",
       "      <th>404284</th>\n",
       "      <td>How many keywords are there in the Racket prog...</td>\n",
       "    </tr>\n",
       "    <tr>\n",
       "      <th>404285</th>\n",
       "      <td>Do you believe there is life after death?</td>\n",
       "    </tr>\n",
       "    <tr>\n",
       "      <th>404286</th>\n",
       "      <td>What is one coin?</td>\n",
       "    </tr>\n",
       "    <tr>\n",
       "      <th>404287</th>\n",
       "      <td>What is the approx annual cost of living while...</td>\n",
       "    </tr>\n",
       "    <tr>\n",
       "      <th>404288</th>\n",
       "      <td>What is like to have sex with cousin?</td>\n",
       "    </tr>\n",
       "  </tbody>\n",
       "</table>\n",
       "<p>404289 rows × 1 columns</p>\n",
       "</div>"
      ],
      "text/plain": [
       "                                                 Question\n",
       "0       What is the step by step guide to invest in sh...\n",
       "1       What is the story of Kohinoor (Koh-i-Noor) Dia...\n",
       "2       How can I increase the speed of my internet co...\n",
       "3       Why am I mentally very lonely? How can I solve...\n",
       "4       Which one dissolve in water quikly sugar, salt...\n",
       "...                                                   ...\n",
       "404284  How many keywords are there in the Racket prog...\n",
       "404285          Do you believe there is life after death?\n",
       "404286                                  What is one coin?\n",
       "404287  What is the approx annual cost of living while...\n",
       "404288              What is like to have sex with cousin?\n",
       "\n",
       "[404289 rows x 1 columns]"
      ]
     },
     "execution_count": 4,
     "metadata": {},
     "output_type": "execute_result"
    }
   ],
   "source": [
    "quora_quest"
   ]
  },
  {
   "cell_type": "code",
   "execution_count": 5,
   "metadata": {},
   "outputs": [],
   "source": [
    "# Data pre processing here is using TF-IDF\n",
    "from sklearn.feature_extraction. text import TfidfVectorizer"
   ]
  },
  {
   "cell_type": "code",
   "execution_count": 6,
   "metadata": {},
   "outputs": [],
   "source": [
    "maximum data frequency , minimum data frequency\n",
    "tfidf= TfidfVectorizer(max_df=0.95, min_df=2, stop_words='english')"
   ]
  },
  {
   "cell_type": "code",
   "execution_count": 8,
   "metadata": {},
   "outputs": [],
   "source": [
    "dtm= tfidf.fit_transform(quora_quest['Question'])"
   ]
  },
  {
   "cell_type": "code",
   "execution_count": 9,
   "metadata": {},
   "outputs": [
    {
     "name": "stdout",
     "output_type": "stream",
     "text": [
      "  (0, 17507)\t0.19115261267972286\n",
      "  (0, 21408)\t0.3003349492828469\n",
      "  (0, 31209)\t0.3291744678610915\n",
      "  (0, 18192)\t0.31649207559225107\n",
      "  (0, 15464)\t0.3894800676252344\n",
      "  (0, 32971)\t0.7162693694576815\n",
      "  (1, 10406)\t0.41096116378467096\n",
      "  (1, 23974)\t0.5191693729420899\n",
      "  (1, 19516)\t0.4799133034561304\n",
      "  (1, 19517)\t0.4894733027565899\n",
      "  (1, 33107)\t0.30277580998825837\n",
      "  (2, 37248)\t0.5042103604692826\n",
      "  (2, 36497)\t0.3295776905701155\n",
      "  (2, 8270)\t0.46956031304730816\n",
      "  (2, 18048)\t0.37362900467499777\n",
      "  (2, 32487)\t0.39485320025743353\n",
      "  (2, 17461)\t0.3480745434484587\n",
      "  (3, 32229)\t0.49938012269942056\n",
      "  (3, 20643)\t0.6159269204464353\n",
      "  (3, 21937)\t0.6093057703009896\n",
      "  (4, 25053)\t0.3468843479743969\n",
      "  (4, 10374)\t0.3730603127323839\n",
      "  (4, 6321)\t0.2918807433803855\n",
      "  (4, 22060)\t0.3678416170096592\n",
      "  (4, 30230)\t0.2934556557121829\n",
      "  :\t:\n",
      "  (404283, 16508)\t0.5811363979349049\n",
      "  (404283, 30453)\t0.4011994236728196\n",
      "  (404283, 11005)\t0.22940066713595997\n",
      "  (404284, 28105)\t0.551438043838651\n",
      "  (404284, 36862)\t0.3895769320272545\n",
      "  (404284, 19259)\t0.4567003682819559\n",
      "  (404284, 19889)\t0.39496096674167896\n",
      "  (404284, 19824)\t0.2969266424601651\n",
      "  (404284, 27370)\t0.30234264535220845\n",
      "  (404285, 4525)\t0.611735823672661\n",
      "  (404285, 9691)\t0.6494469264435084\n",
      "  (404285, 20286)\t0.45166134632998123\n",
      "  (404286, 7700)\t1.0\n",
      "  (404287, 35890)\t0.49973615790429027\n",
      "  (404287, 3045)\t0.4039049736822436\n",
      "  (404287, 2776)\t0.35995195019521026\n",
      "  (404287, 7043)\t0.35616852187020587\n",
      "  (404287, 33257)\t0.289049694020226\n",
      "  (404287, 20499)\t0.2742035450754592\n",
      "  (404287, 17511)\t0.2086536155695884\n",
      "  (404287, 8722)\t0.2566493342168036\n",
      "  (404287, 33248)\t0.2501211716507343\n",
      "  (404288, 8818)\t0.7902876181191913\n",
      "  (404288, 31115)\t0.48845953323608365\n",
      "  (404288, 20333)\t0.3699361634637556\n"
     ]
    }
   ],
   "source": [
    "print(dtm)"
   ]
  },
  {
   "cell_type": "code",
   "execution_count": 10,
   "metadata": {},
   "outputs": [
    {
     "data": {
      "text/plain": [
       "<404289x38669 sparse matrix of type '<class 'numpy.float64'>'\n",
       "\twith 2002912 stored elements in Compressed Sparse Row format>"
      ]
     },
     "execution_count": 10,
     "metadata": {},
     "output_type": "execute_result"
    }
   ],
   "source": [
    "dtm"
   ]
  },
  {
   "cell_type": "code",
   "execution_count": 11,
   "metadata": {},
   "outputs": [],
   "source": [
    "from sklearn.decomposition import NMF"
   ]
  },
  {
   "cell_type": "code",
   "execution_count": 15,
   "metadata": {},
   "outputs": [],
   "source": [
    "nmf_model = NMF(n_components=20, random_state=42)"
   ]
  },
  {
   "cell_type": "code",
   "execution_count": 16,
   "metadata": {},
   "outputs": [
    {
     "data": {
      "text/plain": [
       "NMF(alpha=0.0, beta_loss='frobenius', init=None, l1_ratio=0.0, max_iter=200,\n",
       "    n_components=20, random_state=42, shuffle=False, solver='cd', tol=0.0001,\n",
       "    verbose=0)"
      ]
     },
     "execution_count": 16,
     "metadata": {},
     "output_type": "execute_result"
    }
   ],
   "source": [
    "nmf_model.fit(dtm)"
   ]
  },
  {
   "cell_type": "code",
   "execution_count": 17,
   "metadata": {},
   "outputs": [
    {
     "data": {
      "text/plain": [
       "'algeria'"
      ]
     },
     "execution_count": 17,
     "metadata": {},
     "output_type": "execute_result"
    }
   ],
   "source": [
    "# Display the word stored that index\n",
    "tfidf.get_feature_names()[2300]"
   ]
  },
  {
   "cell_type": "code",
   "execution_count": 18,
   "metadata": {},
   "outputs": [
    {
     "name": "stdout",
     "output_type": "stream",
     "text": [
      "The TOP 15 Words for TOPIC # 0\n",
      "['thing', 'read', 'place', 'visit', 'places', 'phone', 'buy', 'laptop', 'movie', 'ways', '2016', 'books', 'book', 'movies', 'best']\n",
      "\n",
      "\n",
      "The TOP 15 Words for TOPIC # 1\n",
      "['majors', 'recruit', 'sex', 'looking', 'differ', 'use', 'exist', 'really', 'compare', 'cost', 'long', 'feel', 'work', 'mean', 'does']\n",
      "\n",
      "\n",
      "The TOP 15 Words for TOPIC # 2\n",
      "['add', 'answered', 'needing', 'post', 'easily', 'improvement', 'delete', 'asked', 'google', 'answers', 'answer', 'ask', 'question', 'questions', 'quora']\n",
      "\n",
      "\n",
      "The TOP 15 Words for TOPIC # 3\n",
      "['using', 'website', 'investment', 'friends', 'black', 'internet', 'free', 'home', 'easy', 'youtube', 'ways', 'earn', 'online', 'make', 'money']\n",
      "\n",
      "\n",
      "The TOP 15 Words for TOPIC # 4\n",
      "['balance', 'earth', 'day', 'death', 'changed', 'live', 'want', 'change', 'moment', 'real', 'important', 'thing', 'meaning', 'purpose', 'life']\n",
      "\n",
      "\n",
      "The TOP 15 Words for TOPIC # 5\n",
      "['reservation', 'engineering', 'minister', 'president', 'company', 'china', 'business', 'country', 'olympics', 'available', 'job', 'spotify', 'war', 'pakistan', 'india']\n",
      "\n",
      "\n",
      "The TOP 15 Words for TOPIC # 6\n",
      "['beginners', 'online', 'english', 'book', 'did', 'hacking', 'want', 'python', 'languages', 'java', 'learning', 'start', 'language', 'programming', 'learn']\n",
      "\n",
      "\n",
      "The TOP 15 Words for TOPIC # 7\n",
      "['happen', 'presidency', 'think', 'presidential', '2016', 'vote', 'better', 'election', 'did', 'win', 'hillary', 'president', 'clinton', 'donald', 'trump']\n",
      "\n",
      "\n",
      "The TOP 15 Words for TOPIC # 8\n",
      "['russia', 'business', 'win', 'coming', 'countries', 'place', 'pakistan', 'happen', 'end', 'country', 'iii', 'start', 'did', 'war', 'world']\n",
      "\n",
      "\n",
      "The TOP 15 Words for TOPIC # 9\n",
      "['indian', 'companies', 'don', 'guy', 'men', 'culture', 'women', 'work', 'girls', 'live', 'girl', 'look', 'sex', 'feel', 'like']\n",
      "\n",
      "\n",
      "The TOP 15 Words for TOPIC # 10\n",
      "['ca', 'departments', 'positions', 'movies', 'songs', 'business', 'read', 'start', 'job', 'work', 'engineering', 'ways', 'bad', 'books', 'good']\n",
      "\n",
      "\n",
      "The TOP 15 Words for TOPIC # 11\n",
      "['money', 'modi', 'currency', 'economy', 'think', 'government', 'ban', 'banning', 'black', 'indian', 'rupee', 'rs', '1000', 'notes', '500']\n",
      "\n",
      "\n",
      "The TOP 15 Words for TOPIC # 12\n",
      "['blowing', 'resolutions', 'resolution', 'mind', 'likes', 'girl', '2017', 'year', 'don', 'employees', 'going', 'day', 'things', 'new', 'know']\n",
      "\n",
      "\n",
      "The TOP 15 Words for TOPIC # 13\n",
      "['aspects', 'fluent', 'skill', 'spoken', 'ways', 'language', 'fluently', 'speak', 'communication', 'pronunciation', 'speaking', 'writing', 'skills', 'improve', 'english']\n",
      "\n",
      "\n",
      "The TOP 15 Words for TOPIC # 14\n",
      "['diet', 'help', 'healthy', 'exercise', 'month', 'pounds', 'reduce', 'quickly', 'loss', 'fast', 'fat', 'ways', 'gain', 'lose', 'weight']\n",
      "\n",
      "\n",
      "The TOP 15 Words for TOPIC # 15\n",
      "['having', 'feel', 'long', 'spend', 'did', 'person', 'machine', 'movies', 'favorite', 'job', 'home', 'sex', 'possible', 'travel', 'time']\n",
      "\n",
      "\n",
      "The TOP 15 Words for TOPIC # 16\n",
      "['marriage', 'make', 'did', 'girlfriend', 'feel', 'tell', 'forget', 'really', 'friend', 'true', 'know', 'person', 'girl', 'fall', 'love']\n",
      "\n",
      "\n",
      "The TOP 15 Words for TOPIC # 17\n",
      "['easy', 'hack', 'prepare', 'quickest', 'facebook', 'increase', 'painless', 'instagram', 'account', 'best', 'commit', 'fastest', 'suicide', 'easiest', 'way']\n",
      "\n",
      "\n",
      "The TOP 15 Words for TOPIC # 18\n",
      "['web', 'java', 'scripting', 'phone', 'mechanical', 'better', 'job', 'use', 'account', 'data', 'software', 'science', 'computer', 'engineering', 'difference']\n",
      "\n",
      "\n",
      "The TOP 15 Words for TOPIC # 19\n",
      "['earth', 'blowing', 'stop', 'use', 'easily', 'mind', 'google', 'flat', 'questions', 'hate', 'believe', 'ask', 'don', 'think', 'people']\n",
      "\n",
      "\n"
     ]
    }
   ],
   "source": [
    "# Grab the top 15 words\n",
    "\n",
    "for index,topic in enumerate(nmf_model.components_):\n",
    "    print(f\"The TOP 15 Words for TOPIC # {index}\")\n",
    "    print([tfidf.get_feature_names()[i] for i in topic.argsort()[-15:]])\n",
    "    print('\\n')"
   ]
  },
  {
   "cell_type": "code",
   "execution_count": 19,
   "metadata": {},
   "outputs": [],
   "source": [
    "# Discover the topic result with Article\n",
    "\n",
    "topic_results= nmf_model.transform(dtm)"
   ]
  },
  {
   "cell_type": "code",
   "execution_count": 20,
   "metadata": {},
   "outputs": [
    {
     "name": "stdout",
     "output_type": "stream",
     "text": [
      "[[2.75937605e-04 5.91249293e-05 6.17687040e-06 ... 6.97269969e-04\n",
      "  2.13527728e-04 0.00000000e+00]\n",
      " [1.96418670e-04 8.85438224e-05 0.00000000e+00 ... 0.00000000e+00\n",
      "  5.51088847e-05 1.05527238e-05]\n",
      " [1.78019854e-04 6.47373072e-04 1.60510763e-03 ... 3.02354836e-03\n",
      "  1.05908512e-03 1.23878889e-03]\n",
      " ...\n",
      " [0.00000000e+00 1.62431955e-05 5.23720795e-06 ... 0.00000000e+00\n",
      "  2.76279348e-06 0.00000000e+00]\n",
      " [5.36236094e-04 1.01567857e-03 0.00000000e+00 ... 1.28720137e-04\n",
      "  7.76975481e-04 0.00000000e+00]\n",
      " [0.00000000e+00 0.00000000e+00 0.00000000e+00 ... 0.00000000e+00\n",
      "  0.00000000e+00 1.25187210e-04]]\n"
     ]
    }
   ],
   "source": [
    "print(topic_results)"
   ]
  },
  {
   "cell_type": "code",
   "execution_count": 21,
   "metadata": {},
   "outputs": [
    {
     "data": {
      "text/plain": [
       "array([2.75937605e-04, 5.91249293e-05, 6.17687040e-06, 4.95880678e-04,\n",
       "       3.94126495e-05, 2.62022533e-02, 3.92318931e-04, 0.00000000e+00,\n",
       "       0.00000000e+00, 0.00000000e+00, 2.34257472e-04, 1.15869110e-03,\n",
       "       0.00000000e+00, 0.00000000e+00, 0.00000000e+00, 3.97456870e-04,\n",
       "       0.00000000e+00, 6.97269969e-04, 2.13527728e-04, 0.00000000e+00])"
      ]
     },
     "execution_count": 21,
     "metadata": {},
     "output_type": "execute_result"
    }
   ],
   "source": [
    "topic_results[0]  # coeff value of top topics"
   ]
  },
  {
   "cell_type": "code",
   "execution_count": 22,
   "metadata": {},
   "outputs": [
    {
     "data": {
      "text/plain": [
       "5"
      ]
     },
     "execution_count": 22,
     "metadata": {},
     "output_type": "execute_result"
    }
   ],
   "source": [
    "topic_results[0].argmax()"
   ]
  },
  {
   "cell_type": "code",
   "execution_count": 23,
   "metadata": {},
   "outputs": [
    {
     "data": {
      "text/plain": [
       "array([ 5, 16, 17, ..., 11, 11,  9], dtype=int64)"
      ]
     },
     "execution_count": 23,
     "metadata": {},
     "output_type": "execute_result"
    }
   ],
   "source": [
    "topic_results.argmax(axis=1)"
   ]
  },
  {
   "cell_type": "code",
   "execution_count": 24,
   "metadata": {},
   "outputs": [],
   "source": [
    "quora_quest['Topic']= topic_results.argmax(axis=1)"
   ]
  },
  {
   "cell_type": "code",
   "execution_count": 25,
   "metadata": {},
   "outputs": [
    {
     "name": "stdout",
     "output_type": "stream",
     "text": [
      "                                                 Question  Topic\n",
      "0       What is the step by step guide to invest in sh...      5\n",
      "1       What is the story of Kohinoor (Koh-i-Noor) Dia...     16\n",
      "2       How can I increase the speed of my internet co...     17\n",
      "3       Why am I mentally very lonely? How can I solve...     11\n",
      "4       Which one dissolve in water quikly sugar, salt...     14\n",
      "...                                                   ...    ...\n",
      "404284  How many keywords are there in the Racket prog...      6\n",
      "404285          Do you believe there is life after death?      4\n",
      "404286                                  What is one coin?     11\n",
      "404287  What is the approx annual cost of living while...     11\n",
      "404288              What is like to have sex with cousin?      9\n",
      "\n",
      "[404289 rows x 2 columns]\n"
     ]
    }
   ],
   "source": [
    "print(quora_quest)"
   ]
  },
  {
   "cell_type": "code",
   "execution_count": 26,
   "metadata": {},
   "outputs": [
    {
     "data": {
      "text/html": [
       "<div>\n",
       "<style scoped>\n",
       "    .dataframe tbody tr th:only-of-type {\n",
       "        vertical-align: middle;\n",
       "    }\n",
       "\n",
       "    .dataframe tbody tr th {\n",
       "        vertical-align: top;\n",
       "    }\n",
       "\n",
       "    .dataframe thead th {\n",
       "        text-align: right;\n",
       "    }\n",
       "</style>\n",
       "<table border=\"1\" class=\"dataframe\">\n",
       "  <thead>\n",
       "    <tr style=\"text-align: right;\">\n",
       "      <th></th>\n",
       "      <th>Question</th>\n",
       "      <th>Topic</th>\n",
       "    </tr>\n",
       "  </thead>\n",
       "  <tbody>\n",
       "    <tr>\n",
       "      <th>0</th>\n",
       "      <td>What is the step by step guide to invest in sh...</td>\n",
       "      <td>5</td>\n",
       "    </tr>\n",
       "    <tr>\n",
       "      <th>1</th>\n",
       "      <td>What is the story of Kohinoor (Koh-i-Noor) Dia...</td>\n",
       "      <td>16</td>\n",
       "    </tr>\n",
       "    <tr>\n",
       "      <th>2</th>\n",
       "      <td>How can I increase the speed of my internet co...</td>\n",
       "      <td>17</td>\n",
       "    </tr>\n",
       "    <tr>\n",
       "      <th>3</th>\n",
       "      <td>Why am I mentally very lonely? How can I solve...</td>\n",
       "      <td>11</td>\n",
       "    </tr>\n",
       "    <tr>\n",
       "      <th>4</th>\n",
       "      <td>Which one dissolve in water quikly sugar, salt...</td>\n",
       "      <td>14</td>\n",
       "    </tr>\n",
       "  </tbody>\n",
       "</table>\n",
       "</div>"
      ],
      "text/plain": [
       "                                            Question  Topic\n",
       "0  What is the step by step guide to invest in sh...      5\n",
       "1  What is the story of Kohinoor (Koh-i-Noor) Dia...     16\n",
       "2  How can I increase the speed of my internet co...     17\n",
       "3  Why am I mentally very lonely? How can I solve...     11\n",
       "4  Which one dissolve in water quikly sugar, salt...     14"
      ]
     },
     "execution_count": 26,
     "metadata": {},
     "output_type": "execute_result"
    }
   ],
   "source": [
    "quora_quest.head()"
   ]
  }
 ],
 "metadata": {
  "kernelspec": {
   "display_name": "Python 3",
   "language": "python",
   "name": "python3"
  },
  "language_info": {
   "codemirror_mode": {
    "name": "ipython",
    "version": 3
   },
   "file_extension": ".py",
   "mimetype": "text/x-python",
   "name": "python",
   "nbconvert_exporter": "python",
   "pygments_lexer": "ipython3",
   "version": "3.7.6"
  }
 },
 "nbformat": 4,
 "nbformat_minor": 4
}
